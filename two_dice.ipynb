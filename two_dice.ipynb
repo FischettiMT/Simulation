{
 "cells": [
  {
   "cell_type": "code",
   "execution_count": 61,
   "metadata": {},
   "outputs": [
    {
     "name": "stdout",
     "output_type": "stream",
     "text": [
      "0.16362\n"
     ]
    }
   ],
   "source": [
    "import random\n",
    "\n",
    "num_of_trials = 100000\n",
    "target_number=7\n",
    "dice_list=[]\n",
    "\n",
    "\n",
    "# random.seed(10567)\n",
    "\n",
    "for trial in range(num_of_trials):\n",
    "    dice_1=random.randint(1,6)\n",
    "    dice_2=random.randint(1,6)\n",
    "    dice_both=dice_1+dice_2\n",
    "    dice_list.append(dice_both)\n",
    "    \n",
    "count_target_number = dice_list.count(target_number)\n",
    "probability_of_target_number = count_target_number/num_of_trials\n",
    "\n",
    "# print(dice_list)\n",
    "print(probability_of_target_number)\n",
    "\n"
   ]
  }
 ],
 "metadata": {
  "kernelspec": {
   "display_name": "Python 3",
   "language": "python",
   "name": "python3"
  },
  "language_info": {
   "codemirror_mode": {
    "name": "ipython",
    "version": 3
   },
   "file_extension": ".py",
   "mimetype": "text/x-python",
   "name": "python",
   "nbconvert_exporter": "python",
   "pygments_lexer": "ipython3",
   "version": "3.9.6"
  },
  "orig_nbformat": 4
 },
 "nbformat": 4,
 "nbformat_minor": 2
}
